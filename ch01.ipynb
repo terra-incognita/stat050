{
 "cells": [
  {
   "cell_type": "markdown",
   "id": "214fccdf-acb2-41c7-aff9-8550071d8ae0",
   "metadata": {
    "tags": []
   },
   "source": [
    "# STAT050 Ch1\n",
    "\n",
    "## 06/21\n",
    "\n",
    "### Sampling\n",
    "- Population: the **entire** group to be studied\n",
    "- Sample: a **subset** of the population that is being studied\n",
    "\n",
    "### Descriptive vs Inferential statistics\n",
    "- Descriptive: organizing and summarizing the data, e.g. mean, median, mode\n",
    "- Inferential: methods for taking sample results and extending to entire population\n",
    "\n",
    "### Method\n",
    "- Start with wanting to know *something* about a *certain group*.\n",
    "  - That *something* is the variable.\n",
    "  - The *certain group* is the population.\n",
    "- Data: actual values of a variable that can be determined for each member of population\n",
    "\n",
    "### Parameter vs Statistic\n",
    "- **P**arameter: numerical characteristic of the ***p**opulation* that can be estimarted by a statistic. E.g. 60% of all U.S. senators is female.\n",
    "- **S**tatistic: numerical characteristic of a ***s**ample*.\n",
    " \n",
    "### Graph example"
   ]
  },
  {
   "cell_type": "code",
   "execution_count": 103,
   "id": "ce489f73-0c3a-4a8d-a49f-6f2da44d852b",
   "metadata": {
    "tags": []
   },
   "outputs": [
    {
     "name": "stdout",
     "output_type": "stream",
     "text": [
      "\n",
      "    # of grades: 16\n",
      "    mean grade: 82.97\n",
      "    median grade: 88.50\n",
      "    mode grade: 88.00\n",
      "    grade std deviation: 25.05\n",
      "    \n"
     ]
    },
    {
     "data": {
      "image/png": "[encoded data removed]",
      "text/plain": [
       "<Figure size 360x360 with 1 Axes>"
      ]
     },
     "metadata": {
      "needs_background": "light"
     },
     "output_type": "display_data"
    }
   ],
   "source": [
    "from statistics import mean, median, mode, stdev\n",
    "import matplotlib.pyplot as plt\n",
    "import seaborn as sns\n",
    "\n",
    "grades = [0.0, 75.0, 60.0, 77.0, 88.0, 82.0, 80.0, 89.0, 88.0, 90.0, 95.0, 97.5, 98.0, 100.5, 105.0, 102.5]\n",
    "\n",
    "grade_mean = mean(grades)\n",
    "grade_median = median(grades)\n",
    "grade_mode = mode(grades)\n",
    "grade_std = stdev(grades)\n",
    "class_size = len(grades)\n",
    "\n",
    "print(f\"\"\"\n",
    "    # of grades: {class_size}\n",
    "    mean grade: {grade_mean:.2f}\n",
    "    median grade: {grade_median:.2f}\n",
    "    mode grade: {grade_mode:.2f}\n",
    "    grade std deviation: {grade_std:.2f}\n",
    "    \"\"\")\n",
    "\n",
    "g = sns.displot(grades, kde=True)\n",
    "def grade_specs(**kwargs):\n",
    "    plt.axvline(grade_mean, c='k', ls='-', lw=2.5, label=f'mean {grade_mean:.2f}')\n",
    "    plt.axvline(grade_median, c='orange', ls='--', lw=2.5, label=f'median {grade_median:.2f}')\n",
    "\n",
    "g.map(grade_specs)\n",
    "\n",
    "plt.legend(loc='upper right')\n",
    "plt.show()\n"
   ]
  },
  {
   "cell_type": "markdown",
   "id": "7e885b21-505d-4cff-87a9-92210013818a",
   "metadata": {},
   "source": [
    "In the above example, we are using *quantitative* data for grades.\n",
    "\n",
    "Since we have all grades for the class, these are parameters, not statistics.\n",
    "\n",
    "\n"
   ]
  },
  {
   "cell_type": "markdown",
   "id": "e3fc8b71-9bea-4108-aa92-c2a0f381b187",
   "metadata": {},
   "source": [
    "## 06/22\n",
    "\n",
    "### Qualitative vs Quantitative\n",
    "- Qualitative: data based on categorizing\n",
    "- Quantitative: numeric data from counting/measuring population attributes\n",
    "  - Discrete: has countable (finite) values (*what about countably infinite?*).\n",
    "  - Continous: has infinitely many possible values.\n",
    "  \n",
    "### Statistical vs Practical Significance\n",
    "- Statistical significance: unlikely to occur by chance\n",
    "- Practical significance: difference is large enough to be practical"
   ]
  },
  {
   "cell_type": "code",
   "execution_count": 102,
   "id": "6650594b-5da9-44fc-836d-30decfb7024b",
   "metadata": {},
   "outputs": [
    {
     "name": "stdout",
     "output_type": "stream",
     "text": [
      "[62, 68, 71, 74, 77, 82, 84, 88, 90, 94]\n",
      "median: 79.5\n",
      "midpoint: 78.0\n",
      "no mode\n"
     ]
    }
   ],
   "source": [
    "scores = [82, 77, 90, 71, 62, 68, 74, 84, 94, 88]\n",
    "print(sorted(scores))\n",
    "score_median = (77+82)/2\n",
    "score_mid = (max(scores) - min(scores))/2 + min(scores)\n",
    "print(f'median: {score_median}')\n",
    "print(f'midpoint: {score_mid}')\n",
    "try:\n",
    "    score_mode = mode(scores)\n",
    "    print(f'mode: {score_mode}')\n",
    "except:\n",
    "    print('no mode')"
   ]
  },
  {
   "cell_type": "code",
   "execution_count": null,
   "id": "a6de9ecb-0e9f-4e39-811c-889ba618627f",
   "metadata": {},
   "outputs": [],
   "source": []
  }
 ],
 "metadata": {
  "kernelspec": {
   "display_name": "Python 3",
   "language": "python",
   "name": "python3"
  },
  "language_info": {
   "codemirror_mode": {
    "name": "ipython",
    "version": 3
   },
   "file_extension": ".py",
   "mimetype": "text/x-python",
   "name": "python",
   "nbconvert_exporter": "python",
   "pygments_lexer": "ipython3",
   "version": "3.7.4"
  }
 },
 "nbformat": 4,
 "nbformat_minor": 5
}
