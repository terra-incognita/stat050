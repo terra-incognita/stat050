{
 "cells": [
  {
   "cell_type": "code",
   "execution_count": 8,
   "id": "b5d5661a-18d5-45fb-baec-89669043c141",
   "metadata": {},
   "outputs": [
    {
     "name": "stdout",
     "output_type": "stream",
     "text": [
      "    Day  Home (volts)\n",
      "0     1         124.2\n",
      "1     2         124.6\n",
      "2     3         124.5\n",
      "3     4         124.7\n",
      "4     5         124.8\n",
      "5     6         124.0\n",
      "6     7         124.4\n",
      "7     8         124.2\n",
      "8     9         124.4\n",
      "9    10         124.6\n",
      "10   11         124.4\n",
      "11   12         124.0\n",
      "12   13         124.4\n",
      "13   14         124.3\n",
      "14   15         124.7\n",
      "15   16         124.6\n",
      "16   17         124.1\n",
      "17   18         124.2\n",
      "18   19         124.5\n",
      "19   20         124.9\n",
      "20   21         124.6\n",
      "21   22         124.4\n",
      "22   23         124.3\n",
      "23   24         124.2\n",
      "24   25         124.5\n"
     ]
    },
    {
     "data": {
      "text/plain": [
       "<AxesSubplot:>"
      ]
     },
     "execution_count": 8,
     "metadata": {},
     "output_type": "execute_result"
    },
    {
     "data": {
      "image/png": "[encoded data removed]",
      "text/plain": [
       "<Figure size 432x288 with 1 Axes>"
      ]
     },
     "metadata": {
      "needs_background": "light"
     },
     "output_type": "display_data"
    }
   ],
   "source": [
    "import pandas as pd\n",
    "import numpy as np\n",
    "import matplotlib.pyplot as plt\n",
    "import seaborn as sns\n",
    "from statistics import mean, median, mode, stdev\n",
    "\n",
    "voltages = pd.read_csv('2.1_home_voltages.csv')\n",
    "\n",
    "print(tips2)\n",
    "\n",
    "voltages['Home (volts)'].hist(bins=5)"
   ]
  },
  {
   "cell_type": "code",
   "execution_count": 9,
   "id": "8b380dca-66e2-4cd4-a1c2-cf5fe3b6d108",
   "metadata": {},
   "outputs": [
    {
     "name": "stdout",
     "output_type": "stream",
     "text": [
      "total number of ages: 45\n",
      "[42, 43, 46, 46, 47, 47, 48, 49, 49, 50, 51, 51, 51, 51, 51, 52, 52, 54, 54, 54, 54, 54, 55, 55, 55, 55, 56, 56, 56, 57, 57, 57, 57, 58, 60, 61, 61, 61, 62, 64, 64, 65, 68, 69, 70]\n",
      "midpoint: 69.0\n",
      "\n",
      "\n",
      "Frequencies\n",
      "from 42 to 46\n",
      "[46, 42, 43, 46]\n",
      "4\n",
      "freq %: 8.89%\n",
      "cumulative freq %: 8.89%\n",
      "\n",
      "from 47 to 51\n",
      "[51, 49, 50, 48, 49, 51, 47, 51, 51, 51, 47]\n",
      "11\n",
      "freq %: 24.44%\n",
      "cumulative freq %: 33.33%\n",
      "\n",
      "from 52 to 56\n",
      "[54, 52, 56, 54, 55, 55, 54, 56, 55, 54, 55, 56, 52, 54]\n",
      "14\n",
      "freq %: 31.11%\n",
      "cumulative freq %: 64.44%\n",
      "\n",
      "from 57 to 61\n",
      "[57, 61, 57, 57, 58, 57, 61, 60, 61]\n",
      "9\n",
      "freq %: 20.00%\n",
      "cumulative freq %: 84.44%\n",
      "\n",
      "from 62 to 66\n",
      "[64, 65, 62, 64]\n",
      "4\n",
      "freq %: 8.89%\n",
      "cumulative freq %: 93.33%\n",
      "\n",
      "from 67 to 71\n",
      "[68, 69, 70]\n",
      "3\n",
      "freq %: 6.67%\n",
      "cumulative freq %: 100.00%\n",
      "\n",
      "median age: 55\n"
     ]
    },
    {
     "data": {
      "image/png": "[encoded data removed]",
      "text/plain": [
       "<Figure size 432x288 with 1 Axes>"
      ]
     },
     "metadata": {
      "needs_background": "light"
     },
     "output_type": "display_data"
    },
    {
     "data": {
      "image/png": "[encoded data removed]",
      "text/plain": [
       "<Figure size 360x360 with 1 Axes>"
      ]
     },
     "metadata": {
      "needs_background": "light"
     },
     "output_type": "display_data"
    }
   ],
   "source": [
    "ages = [57, 61, 57, 57, 58, 57, 61, 54, 68, 51, 49, 64, 50,\n",
    "        48, 65, 52, 56, 46, 54, 49, 51, 47, 55, 55, 54, 42,\n",
    "        51, 56, 55, 51, 54, 51, 60, 62, 43, 55, 56, 61, 52,\n",
    "        69, 64, 46, 54, 47, 70]\n",
    "\n",
    "print('total number of ages: '+str(len(ages)))\n",
    "print(sorted(ages))\n",
    "\n",
    "def class_filter(min, max):\n",
    "    def the_filter(age):\n",
    "        return age >= min and age <= max\n",
    "    return the_filter\n",
    "\n",
    "classes = [\n",
    "    [42, 46],\n",
    "    [47, 51],\n",
    "    [52, 56],\n",
    "    [57, 61],\n",
    "    [62, 66],\n",
    "    [67, 71]\n",
    "]\n",
    "def ages_in_class(limits):\n",
    "    return list(filter(class_filter(limits[0], limits[1]), ages))\n",
    "last_ages = ages_in_class(classes[5])\n",
    "def midpoint_from_limits(limits):\n",
    "    return sum(limits)/2\n",
    "last_midpoint = midpoint_from_limits(classes[5])\n",
    "\n",
    "print(f'midpoint: {last_midpoint}')\n",
    "\n",
    "print('\\n\\nFrequencies')\n",
    "cum_freq = 0\n",
    "for limits in classes:\n",
    "    min_age, max_age = limits\n",
    "    class_ages = ages_in_class(limits)\n",
    "    print('from %s to %s' % (min_age, max_age))\n",
    "    print(class_ages)\n",
    "    print(len(class_ages))\n",
    "    class_freq = 100*len(class_ages)/len(ages)\n",
    "    cum_freq += class_freq\n",
    "    print(f'freq %: {class_freq:.2f}%')\n",
    "    print(f'cumulative freq %: {cum_freq:.2f}%')\n",
    "    print('')\n",
    "\n",
    "fig, ax = plt.subplots()\n",
    "\n",
    "sns.histplot(ages, binwidth=5, ax=ax)\n",
    "g2 = sns.displot(ages, kde=True)\n",
    "age_median = median(ages)\n",
    "print(f'median age: {age_median}')\n",
    "\n",
    "def age_specs(**kwargs):\n",
    "    age_mean = mean(ages)\n",
    "    age_median = median(ages)\n",
    "    plt.axvline(age_mean, c='k', ls='-', lw=2.5, label=f'mean {age_mean:.2f}')\n",
    "    plt.axvline(age_median, c='orange', ls='--', lw=2.5, label=f'median {age_median:.2f}')\n",
    "\n",
    "g2.map(age_specs)\n",
    "\n",
    "g2 = (g2.set_axis_labels(\"# of presidents\",\"age (years)\").set(xlim=(37,76)))\n",
    "plt.show(g2)"
   ]
  },
  {
   "cell_type": "code",
   "execution_count": null,
   "id": "c33c9424-4855-4062-a6d2-5a2d7b84a1e3",
   "metadata": {},
   "outputs": [],
   "source": []
  }
 ],
 "metadata": {
  "kernelspec": {
   "display_name": "Python 3",
   "language": "python",
   "name": "python3"
  },
  "language_info": {
   "codemirror_mode": {
    "name": "ipython",
    "version": 3
   },
   "file_extension": ".py",
   "mimetype": "text/x-python",
   "name": "python",
   "nbconvert_exporter": "python",
   "pygments_lexer": "ipython3",
   "version": "3.7.4"
  }
 },
 "nbformat": 4,
 "nbformat_minor": 5
}
